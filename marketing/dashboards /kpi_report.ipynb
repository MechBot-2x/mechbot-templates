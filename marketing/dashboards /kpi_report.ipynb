import plotly.express as px
from datetime import datetime
import ipywidgets as widgets

# Cargar datos de segmentación
segmentacion = pd.read_csv('../data/segmentacion.csv')

# %% [markdown]
# ## 1. Análisis de Segmentación

# %%
# Widget para selección de segmento
dropdown = widgets.Dropdown(
    options=segmentacion['segmento'].unique(),
    description='Segmento:',
    value='talleres_mecanicos'
)

# %%
def plot_segmentacion(segmento):
    df = segmentacion[segmentacion['segmento'] == segmento]
    fig = px.bar(
        df,
        x='subsegmento',
        y='tamaño_mercado',
        color='necesidad_clave',
        title=f'Distribución de {segmento.replace("_", " ").title()}',
        labels={'tamaño_mercado': '% Mercado', 'subsegmento': ''}
    )
    fig.update_layout(height=500)
    fig.show()

# Interactivo
widgets.interactive(plot_segmentacion, segmento=dropdown)

# %% [markdown]
# ## 2. Canales por Efectividad

# %%
# Datos simulados de performance
performance_data = pd.DataFrame({
    'canal': ['Facebook', 'LinkedIn', 'Instagram', 'Email'],
    'ctr': [3.2, 1.8, 4.5, 2.1],
    'costo_lead': [15.50, 22.30, 12.10, 18.75]
})

# %%
fig = px.scatter(
    performance_data,
    x='ctr',
    y='costo_lead',
    size='costo_lead',
    color='canal',
    title='Efectividad de Canales de Marketing',
    hover_name='canal'
)
fig.update_layout(height=600)
fig.show()

# %% [markdown]
# ## 3. Progreso de Objetivos

# %%
# Datos de progreso
objetivos = pd.DataFrame({
    'KPI': ['Reconocimiento', 'Adopción', 'CSAT'],
    'Meta': [50, 20, 80],
    'Actual': [32, 8, 76],
    'Periodo': ['6 meses', '12 meses', 'Trimestral']
})

# %%
fig = px.funnel(
    objetivos,
    x=['Actual', 'Meta'],
    y='KPI',
    title='Progreso de Objetivos Clave',
    labels={'x': '', 'y': ''}
)
fig.update_layout(height=400)
fig.show()

# %% [markdown]
# ## 4. Recomendaciones Automatizadas

# %%
# Análisis de oportunidades
def generar_recomendaciones():
    df = segmentacion.sort_values('tamaño_mercado', ascending=False)
    top_segment = df.iloc[0]
    return f"""
    🚀 **Recomendación Prioritaria**:
    Invertir en campañas de {top_segment['canal_primario']} para el segmento
    {top_segment['subsegmento']} (necesidad: {top_segment['necesidad_clave']})
