# ## 1. Análisis de Segmentación

# %%
# Widget para selección de segmento
dropdown = widgets.Dropdown(
    options=segmentacion['segmento'].unique(),
    description='Segmento:',
    value='talleres_mecanicos'
)

# %%
def plot_segmentacion(segmento):
    df = segmentacion[segmentacion['segmento'] == segmento]
    fig = px.bar(
        df,
        x='subsegmento',
        y='tamaño_mercado',
        color='necesidad_clave',
        title=f'Distribución de {segmento.replace("_", " ").title()}',
        labels={'tamaño_mercado': '% Mercado', 'subsegmento': ''}
    )
    fig.update_layout(height=500)
    fig.show()

# Interactivo
widgets.interactive(plot_segmentacion, segmento=dropdown)
