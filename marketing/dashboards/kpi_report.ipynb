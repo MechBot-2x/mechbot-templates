{
 "cells": [
  {
   "cell_type": "markdown",
   "metadata": {},
   "source": [
    "# KPI Report Dashboard\n",
    "\n",
    "Dashboard para análisis de KPIs de marketing"
   ]
  },
  {
   "cell_type": "code",
   "execution_count": null,
   "metadata": {},
   "outputs": [],
   "source": [
    "import plotly.express as px\n",
    "from datetime import datetime\n",
    "import pandas as pd\n",
    "import numpy as np\n",
    "\n",
    "# Datos de ejemplo\n",
    "data = {\n",
    "    'fecha': pd.date_range('2024-01-01', periods=12, freq='M'),\n",
    "    'conversiones': np.random.randint(50, 200, 12),\n",
    "    'ctr': np.random.uniform(0.02, 0.08, 12),\n",
    "    'cpc': np.random.uniform(0.5, 2.0, 12)\n",
    "}\n",
    "\n",
    "df = pd.DataFrame(data)\n",
    "print(\"Datos cargados exitosamente\")\n",
    "df.head()"
   ]
  },
  {
   "cell_type": "code",
   "execution_count": null,
   "metadata": {},
   "outputs": [],
   "source": [
    "# Gráfico de conversiones\n",
    "fig = px.line(df, x='fecha', y='conversiones', \n",
    "              title='Evolución de Conversiones por Mes')\n",
    "fig.show()"
   ]
  },
  {
   "cell_type": "code",
   "execution_count": null,
   "metadata": {},
   "outputs": [],
   "source": [
    "# Gráfico de CTR\n",
    "fig2 = px.bar(df, x='fecha', y='ctr', \n",
    "              title='CTR por Mes')\n",
    "fig2.show()"
   ]
  }
 ],
 "metadata": {
  "kernelspec": {
   "display_name": "Python 3",
   "language": "python",
   "name": "python3"
  },
  "language_info": {
   "codemirror_mode": {
    "name": "ipython",
    "version": 3
   },
   "file_extension": ".py",
   "mimetype": "text/x-python",
   "name": "python",
   "nbconvert_exporter": "python",
   "pygments_lexer": "ipython3",
   "version": "3.8.5"
  }
 },
 "nbformat": 4,
 "nbformat_minor": 4
}
